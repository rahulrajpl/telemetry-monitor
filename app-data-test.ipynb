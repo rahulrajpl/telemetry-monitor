{
 "cells": [
  {
   "cell_type": "code",
   "execution_count": null,
   "metadata": {},
   "outputs": [],
   "source": [
    "import pandas as pd\n",
    "import numpy as np\n",
    "\n",
    "import time\n",
    "from scipy.linalg import hankel, eigh\n",
    "\n",
    "from matplotlib import pyplot as plt"
   ]
  },
  {
   "cell_type": "code",
   "execution_count": null,
   "metadata": {},
   "outputs": [],
   "source": [
    "df = pd.read_csv('data/BatteryTemperature.csv', header=None, nrows=20000)"
   ]
  },
  {
   "cell_type": "code",
   "execution_count": null,
   "metadata": {},
   "outputs": [],
   "source": [
    "df.head()"
   ]
  },
  {
   "cell_type": "code",
   "execution_count": null,
   "metadata": {},
   "outputs": [],
   "source": [
    "with open('data/BatteryTemperature.csv', 'r') as file:\n",
    "    for i in range(5):\n",
    "        time.sleep(1)\n",
    "        line = file.readline()\n",
    "        print(line.split(',')[-1])"
   ]
  },
  {
   "cell_type": "code",
   "execution_count": null,
   "metadata": {},
   "outputs": [],
   "source": [
    "# Draw Plot\n",
    "def plot_df(data, title=\"Telemetry Plot\", xlabel='Time', ylabel='Battery Temperature', dpi=100):\n",
    "    plt.figure(figsize=(16,5), dpi=dpi)\n",
    "    plt.plot(data, color='tab:red')\n",
    "    plt.gca().set(title=title, xlabel=xlabel, ylabel=ylabel)\n",
    "    plt.show()\n",
    "\n",
    "plot_df(data=df[1][:20000], title='TimeSeries of Train Data') "
   ]
  },
  {
   "cell_type": "code",
   "execution_count": null,
   "metadata": {},
   "outputs": [],
   "source": [
    "# Splitting into different sets"
   ]
  },
  {
   "cell_type": "code",
   "execution_count": null,
   "metadata": {},
   "outputs": [],
   "source": [
    "X_train_data = df[1][:20000] # For training \n",
    "X_theta = df[1][20000:80000] # For threshold calculation\n",
    "X_test = df[1][80000:] # For detection"
   ]
  },
  {
   "cell_type": "code",
   "execution_count": null,
   "metadata": {},
   "outputs": [],
   "source": [
    "N = len(X_train_data)\n",
    "L = N // 2\n",
    "X_train = hankel(X_train_data[:L],X_train_data[L-1:]) # Creating trajectory matrix"
   ]
  },
  {
   "cell_type": "code",
   "execution_count": null,
   "metadata": {},
   "outputs": [],
   "source": [
    "eigenValues, eigenVectors = eigh(np.matmul(X_train, X_train.T))\n",
    "idx = eigenValues.argsort()[::-1]\n",
    "eigenValues = eigenValues[idx]\n",
    "eigenVectors = eigenVectors[:,idx]"
   ]
  },
  {
   "cell_type": "code",
   "execution_count": null,
   "metadata": {},
   "outputs": [],
   "source": [
    "# Sree plot\n",
    "fig, ax = plt.subplots(1, 1, figsize=(10,8))\n",
    "ax.plot(eigenValues[:50])\n",
    "ax.set_title(\"Screeplot\")\n",
    "ax.set_ylabel(\"Eigen value ->\")\n",
    "ax.set_xlabel(\"Cardinal Number of Eigen value ->\")"
   ]
  },
  {
   "cell_type": "code",
   "execution_count": null,
   "metadata": {},
   "outputs": [],
   "source": [
    "# From the above scree plot, it is seen that the first eigen value is more \n",
    "# significant and the other eigen values are close to zero. Thus we choose r as 1\n",
    "# and then we compute the U for projection and centroid in the signal subspace\n",
    "r = 2\n",
    "# Extracted Training signals\n",
    "U, Sigma, V = np.linalg.svd(X_train)\n",
    "V = V.T\n",
    "# d = np.linalg.matrix_rank(X_train)\n",
    "X_elem = np.array( [Sigma[i] * np.outer(U[:,i], V[:,i]) for i in range(0,r)] )\n",
    "X_train_extracted = X_elem.sum(axis=0)\n",
    "X_train_extracted_data = np.asarray(list(X_train_extracted[:,0]) + list(X_train_extracted[:,-1]))\n",
    "\n",
    "U = eigenVectors[:,:r] # r as statistical dimension\n",
    "UT = U.T\n",
    "pX = np.matmul(UT,X_train_extracted)\n",
    "centroid = np.mean(pX, axis=1)\n",
    "centroid = centroid[:,np.newaxis]"
   ]
  },
  {
   "cell_type": "code",
   "execution_count": null,
   "metadata": {},
   "outputs": [],
   "source": []
  }
 ],
 "metadata": {
  "kernelspec": {
   "display_name": "Python 3.7.6 64-bit ('blue-env': venv)",
   "language": "python",
   "name": "python37664bitblueenvvenvfb4b34c108284364aeab64f891cff987"
  },
  "language_info": {
   "codemirror_mode": {
    "name": "ipython",
    "version": 3
   },
   "file_extension": ".py",
   "mimetype": "text/x-python",
   "name": "python",
   "nbconvert_exporter": "python",
   "pygments_lexer": "ipython3",
   "version": "3.7.6"
  }
 },
 "nbformat": 4,
 "nbformat_minor": 4
}
